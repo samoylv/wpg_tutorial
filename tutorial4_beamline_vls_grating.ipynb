{
 "cells": [
  {
   "cell_type": "markdown",
   "metadata": {},
   "source": [
    "# XFEL Wave Optics Simulation Tutorial - 4"
   ]
  },
  {
   "cell_type": "markdown",
   "metadata": {},
   "source": [
    "L.Samoylova <liubov.samoylova@xfel.eu>, A.Buzmakov <buzmakov@gmail.com>\n",
    "\n",
    "Tutorial course on FEL Wavefront Propagation Simulations, 05/10/2016, SOS2016 Workshop, Trieste.\n",
    "\n",
    "Version 28/11/2015\n",
    "\n",
    "Wave optics software is based on SRW core library <https://github.com/ochubar/SRW>, available through WPG interactive framework <https://github.com/samoylv/WPG>"
   ]
  },
  {
   "cell_type": "markdown",
   "metadata": {},
   "source": [
    "## Propagation through a beamline with mirror "
   ]
  },
  {
   "cell_type": "markdown",
   "metadata": {},
   "source": [
    "### Import modules"
   ]
  },
  {
   "cell_type": "code",
   "execution_count": null,
   "metadata": {
    "collapsed": true
   },
   "outputs": [],
   "source": [
    "%matplotlib inline"
   ]
  },
  {
   "cell_type": "code",
   "execution_count": null,
   "metadata": {
    "collapsed": true
   },
   "outputs": [],
   "source": [
    "from __future__ import absolute_import\n",
    "from __future__ import division\n",
    "from __future__ import print_function\n",
    "from __future__ import unicode_literals\n",
    "\n",
    "\n",
    "#Importing necessary modules:\n",
    "import os\n",
    "import sys\n",
    "import copy\n",
    "import time\n",
    "import errno\n",
    "import numpy as np\n",
    "import pylab as plt\n",
    "\n",
    "from IPython.display import Image"
   ]
  },
  {
   "cell_type": "markdown",
   "metadata": {},
   "source": [
    "### change `wpg_path` to root folder of the WPG installation"
   ]
  },
  {
   "cell_type": "code",
   "execution_count": null,
   "metadata": {
    "collapsed": false
   },
   "outputs": [],
   "source": [
    "wpg_path = '/Users/lsamoylv/code/ghub/latest/WPG/'\n",
    "sys.path.insert(0,wpg_path)\n",
    "\n",
    "#Import base wavefront class\n",
    "from wpg import Wavefront\n",
    "\n",
    "#Gaussian beam generator\n",
    "from wpg.generators import build_gauss_wavefront\n",
    "\n",
    "#import srwl \n",
    "from wpg.srwlib import srwl\n",
    "\n",
    "#import some helpers functions\n",
    "from wpg.wpg_uti_exfl import calculate_theta_fwhm_cdr_s1\n",
    "from wpg.wpg_uti_wf import calc_pulse_energy, averaged_intensity, calculate_fwhm, get_intensity_on_axis\n",
    "from wpg.wpg_uti_wf import plot_wf, look_at_q_space\n",
    "\n",
    "plt.ion()"
   ]
  },
  {
   "cell_type": "markdown",
   "metadata": {},
   "source": [
    "### define helper functions"
   ]
  },
  {
   "cell_type": "code",
   "execution_count": null,
   "metadata": {
    "collapsed": true
   },
   "outputs": [],
   "source": [
    "def mkdir_p(path):\n",
    "    try:\n",
    "        os.makedirs(path)\n",
    "    except OSError as exc:  # Python >2.5\n",
    "        if exc.errno == errno.EEXIST and os.path.isdir(path):\n",
    "            pass\n",
    "        else:\n",
    "            raise"
   ]
  },
  {
   "cell_type": "code",
   "execution_count": null,
   "metadata": {
    "collapsed": false
   },
   "outputs": [],
   "source": [
    "from IPython.display import Image\n",
    "Image(filename='figures/grating_vls_bl.png')"
   ]
  },
  {
   "cell_type": "markdown",
   "metadata": {},
   "source": [
    "## define a beamline with VLS  grating"
   ]
  },
  {
   "cell_type": "code",
   "execution_count": null,
   "metadata": {
    "collapsed": false
   },
   "outputs": [],
   "source": [
    "%%file tutorial4_beamline_vls_grating_0.py\n",
    "# zero order (mirror) reflection\n",
    "\n",
    "def get_beamline():\n",
    "    import os\n",
    "    import wpg\n",
    "    from wpg import Beamline\n",
    "    from wpg.optical_elements import Aperture, Drift, Lens, Empty, Use_PP, Mirror_plane, VLS_Grating\n",
    "    from wpg.wpg_uti_oe import show_transmission\n",
    "\n",
    "    wpg_path = os.path.abspath(os.path.dirname(wpg.__file__))\n",
    "    data_path = 'data_wpg_tutorial_04'\n",
    "\n",
    "    # S1 beamline layout\n",
    "    # Geometry ###\n",
    "    src_to_hom1 = 274.  # Distance source to HOM 1 [m]\n",
    "    src_to_hom2 = 284.  # Distance source to HOM 2 [m]\n",
    "    src_to_m3 = 300.    # Distance source to vertical focusing mirror of grating mono\n",
    "    src_to_vls_gr = 301.\n",
    "    src_to_pslit = 400. # distance source to slit in focus \n",
    "\n",
    "    theta_om = 9.e-3  # [rad]\n",
    "    theta_m3 = 9.e-3  # [rad]\n",
    "\n",
    "    om_mirror_length = 0.8  # [m]\n",
    "    om_clear_ap = om_mirror_length * theta_om\n",
    "    \n",
    "    m3_mirror_length = 0.5\n",
    "    m3_clear_ap = m3_mirror_length * theta_m3\n",
    "    # define the beamline:\n",
    "    bl0 = Beamline()\n",
    "\n",
    "    # Define HOM1.\n",
    "    aperture_x_to_y_ratio = 1\n",
    "    hom1 = Aperture(\n",
    "        shape='r', ap_or_ob='a', Dx=om_clear_ap, Dy=om_clear_ap / aperture_x_to_y_ratio)\n",
    "    bl0.append(\n",
    "        hom1, Use_PP(semi_analytical_treatment=0, zoom=1,sampling = 1/0.6))\n",
    "\n",
    "    # Define mirror profile\n",
    "    # Apply distortions.\n",
    "    mirrors_path = os.path.join(wpg_path, '..','samples', 'data_common')\n",
    "    hom1_wavefront_distortion = Mirror_plane(orient='x', \n",
    "                                             theta=theta_om, \n",
    "                                             length=om_mirror_length, \n",
    "                                             range_xy=om_clear_ap/aperture_x_to_y_ratio, \n",
    "                                             filename=os.path.join(mirrors_path, 'mirror1.dat'), \n",
    "                                             scale=1, delim=' ',bPlot=True)\n",
    "    print('HOM1 WF distortion'); show_transmission(hom1_wavefront_distortion);\n",
    "\n",
    "    zoom = 1.2\n",
    "\n",
    "    bl0.append(hom1_wavefront_distortion,\n",
    "               Use_PP(semi_analytical_treatment=0, zoom=zoom, sampling=zoom/0.8))\n",
    "\n",
    "    # Free space propagation from hom1 to hom2\n",
    "    hom1_to_hom2_drift = Drift(src_to_hom2 - src_to_hom1)\n",
    "    bl0.append(hom1_to_hom2_drift, Use_PP(semi_analytical_treatment=0))\n",
    "\n",
    "    # Define HOM2 as aperture.\n",
    "    zoom = 1.0\n",
    "    hom2 = Aperture('r', 'a', om_clear_ap, om_clear_ap / aperture_x_to_y_ratio)\n",
    "    bl0.append(hom2, Use_PP(semi_analytical_treatment=0,\n",
    "                            zoom=zoom, sampling=zoom / 1))\n",
    "\n",
    "    # drift to M3 mirror\n",
    "    hom2_to_m3 = Drift(src_to_m3 - src_to_hom2)\n",
    "\n",
    "    bl0.append(hom2_to_m3, Use_PP(semi_analytical_treatment=1))\n",
    "    m3 = Aperture('r', 'a', m3_clear_ap, m3_clear_ap / aperture_x_to_y_ratio)\n",
    "    bl0.append(m3, Use_PP(semi_analytical_treatment=0,\n",
    "                            zoom=zoom, sampling=zoom / 1))\n",
    "    # Define mirror profile\n",
    "    # Apply distortions.\n",
    "    mirrors_path = 'data_common'\n",
    "    # Define mirror profile\n",
    "    mm3_wavefront_distortion = Mirror_plane(orient='y', \n",
    "                                             theta=theta_m3, \n",
    "                                             length=m3_mirror_length, \n",
    "                                             range_xy=m3_clear_ap/aperture_x_to_y_ratio, \n",
    "                                             filename=os.path.join(\n",
    "                                             mirrors_path, 'mj37_2.dat'), \n",
    "                                             scale=5.,\n",
    "                                             bPlot=True)\n",
    "    print('M3 WF distortion'); show_transmission(mm3_wavefront_distortion);\n",
    "    bl0.append(mm3_wavefront_distortion,\n",
    "               Use_PP(semi_analytical_treatment=0))\n",
    "    q_m3 = src_to_pslit - src_to_m3\n",
    "    bl0.append(Lens(1e23,1./(1./src_to_m3 + 1./q_m3)), \n",
    "            Use_PP(semi_analytical_treatment=1))\n",
    "    vls_gr_0 = Aperture('r', 'a', m3_clear_ap, m3_clear_ap / aperture_x_to_y_ratio)\n",
    "    bl0.append(vls_gr_0, Use_PP(semi_analytical_treatment=0,\n",
    "                            zoom=zoom, sampling=zoom / 1.))\n",
    "    vls_gr_to_foc = Drift(src_to_pslit - src_to_vls_gr)\n",
    "    bl0.append(vls_gr_to_foc, Use_PP(semi_analytical_treatment=1))\n",
    "    bl0.append(Empty(),Use_PP(zoom_v=0.1, sampling_v=0.1/0.1))\n",
    "    return bl0\n"
   ]
  },
  {
   "cell_type": "code",
   "execution_count": null,
   "metadata": {
    "collapsed": false
   },
   "outputs": [],
   "source": [
    "%%file tutorial4_beamline_vls_grating_1.py\n",
    "# m=1 reflection grating \n",
    "\n",
    "def get_beamline(ekev):\n",
    "    import os\n",
    "    import wpg\n",
    "    from wpg import Beamline\n",
    "    from wpg.optical_elements import Aperture, Drift, Lens, Empty, Use_PP, Mirror_plane, VLS_grating\n",
    "    from wpg.wpg_uti_oe import show_transmission\n",
    "    from wpg.srwlib import SRWLOptMirPl\n",
    "    import numpy as np\n",
    "\n",
    "    wpg_path = os.path.abspath(os.path.dirname(wpg.__file__))\n",
    "    data_path = 'data_wpg_tutorial_04'\n",
    "\n",
    "    # S1 beamline layout\n",
    "    # Geometry ###\n",
    "    src_to_hom1 = 268.8 #274.  # Distance source to HOM 1 [m]\n",
    "    src_to_hom2 = 271.7 #284.  # Distance source to HOM 2 [m]\n",
    "    \n",
    "    src_to_m3a = 287.4    # high energy 1-3 keV #Distance source to vertical focusing mirror of grating mono\n",
    "    src_to_m3b = 288.2    # low energy 0.27 1.2 keV #Distance source to vertical focusing mirror of grating mono\n",
    "    src_to_vls_gr = 288.8 #\n",
    "    src_to_m5 = 326.8   # SCS distribution mirror\n",
    "    src_to_pslit = 387.9  #400. # distance source to slit in focus \n",
    "    \n",
    "    src_to_m3 = src_to_m3b #low energy mono\n",
    "\n",
    "    theta_om = 9.e-3   # [rad] check!\n",
    "    theta_m3 = 20.e-3  # [rad]\n",
    "    alpha_gr1 = 16.239e-3 # [rad] for 0.8 keV\n",
    "    vls_gr1_par = [50., 0.00101, 0, 0] #Polynomial coefficients for VLS Grating Groove Density\n",
    "    vls_gr2_par = [150., 0.00101, 0, 0] #Polynomial coefficients for VLS Grating Groove Density\n",
    "    # calculate grating geometry\n",
    "    d = 1.e-3/vls_gr1_par[0]; #period\n",
    "    wl = 12.39e-10/ekev\n",
    "    m = 1 #grating order\n",
    "    dtheta = np.arcsin(m*wl/(2*d*np.sin(theta_m3))) #for constant deflection angle geo\n",
    "    alpha = theta_m3-dtheta; beta = theta_m3+dtheta\n",
    "    print('alpha, beta: {:.1f}, {:.1f} mrad'.format(alpha*1e3,beta*1e3))\n",
    "    print('{:.4g}'.format(np.cos(alpha)-np.cos(beta)))\n",
    "    print('{:.4g}'.format(m*wl/d))    \n",
    "    om_mirror_length = 0.8  # [m]\n",
    "    om_clear_ap = om_mirror_length * theta_om\n",
    "    \n",
    "    m3_mirror_length = 0.58\n",
    "    m3_clear_ap = m3_mirror_length * theta_m3\n",
    "    gr_length = 0.5\n",
    "    gr_width = 0.2\n",
    "    gr_clear_ap = gr_length * theta_m3\n",
    "    # define the beamline:\n",
    "    bl0 = Beamline()\n",
    "\n",
    "    # Define HOM1.\n",
    "    aperture_x_to_y_ratio = 1\n",
    "    hom1 = Aperture(\n",
    "        shape='r', ap_or_ob='a', Dx=om_clear_ap, Dy=om_clear_ap / aperture_x_to_y_ratio)\n",
    "    bl0.append(\n",
    "        hom1, Use_PP(semi_analytical_treatment=0, zoom=1,sampling = 1/0.6))\n",
    "\n",
    "    # Define mirror profile\n",
    "    # Apply distortions.\n",
    "    mirrors_path = os.path.join(wpg_path, '..','samples', 'data_common')\n",
    "    hom1_wavefront_distortion = Mirror_plane(orient='x', \n",
    "                                             theta=theta_om, \n",
    "                                             length=om_mirror_length, \n",
    "                                             range_xy=om_clear_ap/aperture_x_to_y_ratio, \n",
    "                                             filename=os.path.join(mirrors_path, 'mirror1.dat'), \n",
    "                                             scale=1, delim=' ',bPlot=True)\n",
    "    print('HOM1 WF distortion'); show_transmission(hom1_wavefront_distortion);\n",
    "\n",
    "    zoom = 1.2\n",
    "\n",
    "    bl0.append(hom1_wavefront_distortion,\n",
    "               Use_PP(semi_analytical_treatment=0, zoom=zoom, sampling=zoom/0.8))\n",
    "\n",
    "    # Free space propagation from hom1 to hom2\n",
    "    hom1_to_hom2_drift = Drift(src_to_hom2 - src_to_hom1)\n",
    "    bl0.append(hom1_to_hom2_drift, Use_PP(semi_analytical_treatment=0))\n",
    "\n",
    "    # Define HOM2 as aperture.\n",
    "    zoom = 1.0\n",
    "    hom2 = Aperture('r', 'a', om_clear_ap, om_clear_ap / aperture_x_to_y_ratio)\n",
    "    bl0.append(hom2, Use_PP(semi_analytical_treatment=0,\n",
    "                            zoom=zoom, sampling=zoom / 1))\n",
    "\n",
    "    # drift to M3 mirror\n",
    "    hom2_to_m3 = Drift(src_to_m3 - src_to_hom2)\n",
    "\n",
    "    bl0.append(hom2_to_m3, Use_PP(semi_analytical_treatment=1))\n",
    "    m3 = Aperture('r', 'a', m3_clear_ap, m3_clear_ap / aperture_x_to_y_ratio)\n",
    "    bl0.append(m3, Use_PP(semi_analytical_treatment=0,\n",
    "                            zoom=zoom, sampling=zoom / 1))\n",
    "    # Define mirror profile\n",
    "    # Apply distortions.\n",
    "    mirrors_path = 'data_common'\n",
    "    # Define mirror profile\n",
    "    pm3_wavefront_distortion = Mirror_plane(orient='y', \n",
    "                                             theta=theta_m3, \n",
    "                                             length=m3_mirror_length, \n",
    "                                             range_xy=m3_clear_ap/aperture_x_to_y_ratio, \n",
    "                                             filename=os.path.join(\n",
    "                                             mirrors_path, 'mj37_2.dat'), \n",
    "                                             scale=5.,\n",
    "                                             bPlot=True)\n",
    "    print('M3 WF distortion'); show_transmission(pm3_wavefront_distortion);\n",
    "    bl0.append(pm3_wavefront_distortion,\n",
    "               Use_PP(semi_analytical_treatment=0))\n",
    "    q_m3 = src_to_pslit - src_to_m3\n",
    "    bl0.append(Lens(1e23,1./(1./src_to_m3 + 1./q_m3)), \n",
    "            Use_PP(semi_analytical_treatment=1))\n",
    "    m3_to_vls_gr = Drift(src_to_vls_gr - src_to_m3)\n",
    "    bl0.append(m3_to_vls_gr, Use_PP(semi_analytical_treatment=1))\n",
    "    vls_gr_0 = Aperture('r', 'a', m3_clear_ap, m3_clear_ap / aperture_x_to_y_ratio)\n",
    "    #Grating Substrate (plane mirror, deflecting in vertical plane):\n",
    "    gr_sub = SRWLOptMirPl(_size_tang=gr_length, _size_sag=gr_width, _ap_shape='r',\n",
    "                    _nvx=0, _nvy=np.cos(alpha_gr1), _nvz=-np.sin(alpha_gr1), _tvx=0, _tvy=np.sin(alpha_gr1))    \n",
    "    vls_gr_1 = VLS_grating(_mirSub=gr_sub, \n",
    "                           _m=1, \n",
    "                           _grDen=vls_gr1_par[0], \n",
    "                           _grDen1=vls_gr1_par[1], \n",
    "                           _grDen2=vls_gr1_par[2], \n",
    "                           _grDen3=vls_gr1_par[3])\n",
    "    \n",
    "    bl0.append(vls_gr_0, Use_PP(semi_analytical_treatment=0,\n",
    "                            zoom=zoom, sampling=zoom / 1.))\n",
    "    bl0.append(vls_gr_1, Use_PP(semi_analytical_treatment=0,\n",
    "                            zoom=zoom, sampling=zoom / 1.))\n",
    "    vls_gr_to_foc = Drift(src_to_pslit - src_to_vls_gr)\n",
    "    bl0.append(vls_gr_to_foc, Use_PP(semi_analytical_treatment=1))\n",
    "    bl0.append(Empty(),Use_PP(zoom_v=0.1, sampling_v=0.1/0.1))\n",
    "    return bl0\n"
   ]
  },
  {
   "cell_type": "code",
   "execution_count": null,
   "metadata": {
    "collapsed": false
   },
   "outputs": [],
   "source": [
    "ekev = 0.77\n",
    "wl = 12.39e-10/ekev\n",
    "d = 1./50e3;m=1\n",
    "theta_m3 = 20.e-3\n",
    "# m*wl = d (cos(q-dq) - cos(q+2q))= 2*d*sin(q) sin(2q) => dq = arcsin(m*wl/(2*d*sin(q)))\n",
    "dq = np.arcsin(m*wl/(2*d*np.sin(theta_m3)))\n",
    "alpha = theta_m3-dq; beta = theta_m3+dq\n",
    "print(dq, alpha,beta)\n",
    "print('{:.4g}'.format(np.cos(alpha)-np.cos(beta)))\n",
    "print('{:.4g}'.format(m*wl/d))"
   ]
  },
  {
   "cell_type": "markdown",
   "metadata": {},
   "source": [
    "### define source \n",
    "### Gaussian beam"
   ]
  },
  {
   "cell_type": "code",
   "execution_count": null,
   "metadata": {
    "collapsed": false
   },
   "outputs": [],
   "source": [
    "out_prefix = 'gb_'\n",
    "src_oe1 = 274. # Distance to the first OE [m]\n",
    "\n",
    "# Central photon energy.\n",
    "ekev = 0.77 # Energy [keV]\n",
    "\n",
    "# Pulse parameters.\n",
    "qnC = 0.1               # e-bunch charge, [nC]\n",
    "pulse_duration = 9.e-15 # [s] <-is not used really, only ~coh time pulse duration has physical meaning \n",
    "pulseEnergy = 1.5e-3    # total pulse energy, J\n",
    "coh_time = 2.2e-15      # [s]<-should be SASE coherence time, then spectrum will be the same as for SASE \n",
    "#coh_time = 50.e-15#2.2e-15      # [s]<-change to this value to get quasi-moncohromatic case\n",
    "\n",
    "# Angular distribution\n",
    "theta_fwhm = calculate_theta_fwhm_cdr_s1(ekev,qnC) # CDR2011 empirical formula\n",
    "theta_fwhm = 6.e-6 #empiric value for linear SASE before saturation\n",
    "print('divergence FWHM {0:.1f} urad'.format(theta_fwhm*1e6))"
   ]
  },
  {
   "cell_type": "code",
   "execution_count": null,
   "metadata": {
    "collapsed": false
   },
   "outputs": [],
   "source": [
    "# Gaussian beam parameters\n",
    "wlambda = 12.4*1e-10/ekev        # wavelength \n",
    "w0 = wlambda/(np.pi*theta_fwhm)  # FWHM beam waist; \n",
    "w0_a = w0/(2*np.sqrt(np.log(2))) # sigma of amplitude\n",
    "zR = (np.pi*w0_a**2)/wlambda     # Rayleigh length, max WF curvature\n",
    "\n",
    "# expected beam radius at OE1 position to get the range of the wavefront \n",
    "print('Intensity waist size: {:.0f} um FWHM'.format(w0*1e6))\n",
    "print('Rayleigh length: {:.1f} m'.format(zR))\n",
    "print('expected FWHM at distance {:.1f} m: {:.2f} mm'.format(src_oe1,theta_fwhm*src_oe1*1e3))\n",
    "\n",
    "fname = '{0:s}at_{1:.0f}_m'.format(out_prefix,src_oe1);\n",
    "bname = fname"
   ]
  },
  {
   "cell_type": "code",
   "execution_count": null,
   "metadata": {
    "collapsed": false
   },
   "outputs": [],
   "source": [
    "bSaved=True\n",
    "data_path = 'data_wpg_tutorial_04';mkdir_p(data_path)\n",
    "sig_num = 4.\n",
    "num_points = 400 #number of points\n",
    "range_xy = w0_a * np.sqrt(1+(src_oe1/zR)**2)/np.sqrt(2)*sig_num;\n",
    "print('range_xy at OE1: {:.1f} mm'.format(range_xy*1e3))\n",
    "dx = 30.e-6; range_xy = dx*(num_points-1)\n",
    "print('range_xy at OE1: {:.1f} mm'.format(range_xy*1e3))\n",
    "nslices = 20; "
   ]
  },
  {
   "cell_type": "markdown",
   "metadata": {},
   "source": [
    "### create Gaussian beam"
   ]
  },
  {
   "cell_type": "code",
   "execution_count": null,
   "metadata": {
    "collapsed": false
   },
   "outputs": [],
   "source": [
    "srwl_wf = build_gauss_wavefront(num_points, num_points, nslices, ekev, -range_xy/2, range_xy/2,\n",
    "                                -range_xy/2, range_xy/2 ,coh_time/np.sqrt(2), \n",
    "                                w0_a, w0_a, src_oe1,\n",
    "                                pulseEn=pulseEnergy, pulseRange=8.)\n",
    "wf = Wavefront(srwl_wf)\n",
    "z0 = src_oe1\n",
    "#defining name HDF5 file for storing wavefront\n",
    "#store wavefront to HDF5 file \n",
    "if bSaved:     \n",
    "    wf.store_hdf5(os.path.join(data_path,fname+'.h5')); \n",
    "    print('saving WF to {:s}'.format(os.path.join(data_path,fname+'.h5')))\n",
    "\n",
    "xx=calculate_fwhm(wf);\n",
    "print('FWHM at distance {:.1f} m: {:.2f} x {:.2f} mm2'.format(z0,xx[u'fwhm_x']*1e3,xx[u'fwhm_y']*1e3));"
   ]
  },
  {
   "cell_type": "markdown",
   "metadata": {},
   "source": [
    "### show Gaussian wavefront in R- and Q-space"
   ]
  },
  {
   "cell_type": "code",
   "execution_count": null,
   "metadata": {
    "collapsed": false
   },
   "outputs": [],
   "source": [
    "plot_wf(wf)\n",
    "look_at_q_space(wf)"
   ]
  },
  {
   "cell_type": "markdown",
   "metadata": {},
   "source": [
    "### load FEL SASE pulse \n",
    "###  _copy FEL pulse from tutorial1_data folder_\n",
    "### _change formatting from raw to code to load FEL beam_"
   ]
  },
  {
   "cell_type": "raw",
   "metadata": {
    "collapsed": true
   },
   "source": [
    "wf=Wavefront()\n",
    "bname = 's1_8_43_100_xy75_ss10_nzc15_1_0000001'\n",
    "fname = bname+'_prop_at_256m'\n",
    "wf.load_hdf5(os.path.join(data_path,fname+'.h5'))\n",
    "#plot_wf(wf)\n",
    "#look_at_q_space(wf)\n",
    "\n",
    "### show initial FEL SASE wavefront\n",
    "\n",
    "from wpg.srwlib import srwl\n",
    "#Resizing: decreasing Range of Horizontal and Vertical Position:\n",
    "#srwl.ResizeElecField(wf._srwl_wf, 'c', [0, 0.48, 0.48/0.16, 0.48,  0.48/0.16]);\n",
    "xx=calculate_fwhm(wf);\n",
    "print('source size FWHM: {:.3f} x {:.3f} mm2'.format(xx[u'fwhm_x']*1e3,xx[u'fwhm_y']*1e3));\n",
    "plot_wf(wf)\n",
    "look_at_q_space(wf)    \n",
    "#wpg.srwlib.srwl.SetRepresElecField(wf._srwl_wf, 'f')"
   ]
  },
  {
   "cell_type": "markdown",
   "metadata": {},
   "source": [
    "### propagate through the beamline"
   ]
  },
  {
   "cell_type": "code",
   "execution_count": null,
   "metadata": {
    "collapsed": false
   },
   "outputs": [],
   "source": [
    "#loading beamline from file\n",
    "import imp\n",
    "import time\n",
    "\n",
    "custom_beamline = imp.load_source('custom_beamline', 'tutorial4_beamline_vls_grating_1.py')\n",
    "get_beamline = custom_beamline.get_beamline\n",
    "print('building beamline...');t0 = time.time();\n",
    "bl = get_beamline(ekev)\n",
    "print('done in {:.2f} s'.format(time.time()-t0))\n",
    "print(bl)\n",
    "\n",
    "wf=Wavefront() ;wf.load_hdf5(os.path.join(data_path,fname+'.h5'))\n",
    "srwl.ResizeElecField(wf._srwl_wf, 't', [0, 5, 1]);plot_wf(wf)\n",
    "print('switching to frequency domain...');t0 = time.time();\n",
    "srwl.SetRepresElecField(wf._srwl_wf, 'f');plot_wf(wf) \n",
    "print('done in {:.2f} s'.format(time.time()-t0))\n",
    "print('resizing in frequency domain...');t0 = time.time();\n",
    "srwl.ResizeElecField(wf._srwl_wf, 'f', [0, 0.33, 0.33/0.05]);plot_wf(wf)\n",
    "print('done in {:.2f} s'.format(time.time()-t0))\n",
    "\n",
    "print('propagating through beamline...');t0 = time.time();\n",
    "bl.propagate(wf)\n",
    "print('done in {:.2f} s'.format(time.time()-t0));plot_wf(wf)    \n",
    "\n",
    "print('resizing in frequency domain...');t0 = time.time();\n",
    "srwl.ResizeElecField(wf._srwl_wf, 'f', [0, 2., 1]);plot_wf(wf)\n",
    "print('done in {:.2f} s'.format(time.time()-t0));plot_wf(wf)    \n",
    "print('switching to time domain...');t0 = time.time();\n",
    "srwl.SetRepresElecField(wf._srwl_wf, 't')\n",
    "print('done in {:.2f} s'.format(time.time()-t0));plot_wf(wf)    \n",
    "#srwl.ResizeElecField(wf._srwl_wf, 't', [0, 0.5, 1]);plot_wf(wf)"
   ]
  },
  {
   "cell_type": "markdown",
   "metadata": {},
   "source": [
    "### show propagated wavefront"
   ]
  },
  {
   "cell_type": "code",
   "execution_count": null,
   "metadata": {
    "collapsed": false
   },
   "outputs": [],
   "source": [
    "fwhm=calculate_fwhm(wf);\n",
    "print('FWHM propagated beam: {:.2f} x {:.2f} um2'.format(fwhm[u'fwhm_x']*1e6,fwhm[u'fwhm_y']*1e6));\n",
    "plot_wf(wf,im_aspect='auto')\n",
    "look_at_q_space(wf)    "
   ]
  },
  {
   "cell_type": "markdown",
   "metadata": {},
   "source": [
    "### save propagated pulse "
   ]
  },
  {
   "cell_type": "raw",
   "metadata": {
    "collapsed": false
   },
   "source": [
    "src_to_imager = 887.8 # distance source to imager \n",
    "z = src_to_imager\n",
    "fname = '{:s}_prop_at_{:03d}m'.format(bname,int(8))\n",
    "if bSaved:     \n",
    "    wf.store_hdf5(os.path.join(data_path,fname+'.h5')); \n",
    "    print('saving WF to {:s}'.format(os.path.join(data_path,fname+'.h5')))\n"
   ]
  },
  {
   "cell_type": "code",
   "execution_count": null,
   "metadata": {
    "collapsed": true
   },
   "outputs": [],
   "source": []
  }
 ],
 "metadata": {
  "kernelspec": {
   "display_name": "Python 3",
   "language": "python",
   "name": "python3"
  },
  "language_info": {
   "codemirror_mode": {
    "name": "ipython",
    "version": 3
   },
   "file_extension": ".py",
   "mimetype": "text/x-python",
   "name": "python",
   "nbconvert_exporter": "python",
   "pygments_lexer": "ipython3",
   "version": "3.4.5"
  }
 },
 "nbformat": 4,
 "nbformat_minor": 1
}
