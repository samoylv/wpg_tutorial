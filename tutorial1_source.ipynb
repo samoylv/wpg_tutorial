{
 "cells": [
  {
   "cell_type": "markdown",
   "metadata": {},
   "source": [
    "# XFEL Wave Optics Simulation Tutorial - 1"
   ]
  },
  {
   "cell_type": "markdown",
   "metadata": {},
   "source": [
    "L.Samoylova <liubov.samoylova@xfel.eu>, A.Buzmakov <buzmakov@gmail.com>\n",
    "\n",
    "Tutorial course on FEL Wavefront Propagation Simulations, 05/10/2016, SOS2016 Workshop, Trieste.\n",
    "\n",
    "Version 05/10/2016\n",
    "\n",
    "Wave optics software is based on SRW core library <https://github.com/ochubar/SRW>, available through WPG interactive framework <https://github.com/samoylv/WPG>"
   ]
  },
  {
   "cell_type": "markdown",
   "metadata": {},
   "source": [
    "## FEL Source Simulation"
   ]
  },
  {
   "cell_type": "markdown",
   "metadata": {},
   "source": [
    "### Import modules"
   ]
  },
  {
   "cell_type": "code",
   "execution_count": null,
   "metadata": {
    "collapsed": true
   },
   "outputs": [],
   "source": [
    "%matplotlib inline"
   ]
  },
  {
   "cell_type": "code",
   "execution_count": null,
   "metadata": {
    "collapsed": true
   },
   "outputs": [],
   "source": [
    "from __future__ import absolute_import\n",
    "from __future__ import division\n",
    "from __future__ import print_function\n",
    "from __future__ import unicode_literals\n",
    "\n",
    "\n",
    "#Importing necessary modules:\n",
    "import os\n",
    "import sys\n",
    "import copy\n",
    "import time\n",
    "import errno\n",
    "import numpy as np\n",
    "import pylab as plt\n",
    "\n",
    "from IPython.display import Image"
   ]
  },
  {
   "cell_type": "markdown",
   "metadata": {},
   "source": [
    "### change `wpg_path` to root folder of the WPG installation"
   ]
  },
  {
   "cell_type": "code",
   "execution_count": null,
   "metadata": {
    "collapsed": false
   },
   "outputs": [],
   "source": [
    "# wpg_path = '/Users/lsamoylv/code/ghub/latest/WPG/'\n",
    "wpg_path = os.path.join('..','WPG')\n",
    "sys.path.insert(0,wpg_path)\n",
    "\n",
    "#Import base wavefront class\n",
    "from wpg import Wavefront\n",
    "\n",
    "#Gaussian beam generator\n",
    "from wpg.generators import build_gauss_wavefront\n",
    "\n",
    "#import some helpers functions\n",
    "from wpg.wpg_uti_exfl import calculate_theta_fwhm_cdr_s1\n",
    "from wpg.wpg_uti_wf import calc_pulse_energy, averaged_intensity, calculate_fwhm, get_intensity_on_axis\n",
    "from wpg.wpg_uti_wf import plot_wf, look_at_q_space\n",
    "\n",
    "plt.ion()"
   ]
  },
  {
   "cell_type": "markdown",
   "metadata": {},
   "source": [
    "### define helper functions"
   ]
  },
  {
   "cell_type": "code",
   "execution_count": null,
   "metadata": {
    "collapsed": true
   },
   "outputs": [],
   "source": [
    "def mkdir_p(path):\n",
    "    try:\n",
    "        os.makedirs(path)\n",
    "    except OSError as exc:  # Python >2.5\n",
    "        if exc.errno == errno.EEXIST and os.path.isdir(path):\n",
    "            pass\n",
    "        else:\n",
    "            raise"
   ]
  },
  {
   "cell_type": "markdown",
   "metadata": {},
   "source": [
    "### define source parameters"
   ]
  },
  {
   "cell_type": "code",
   "execution_count": null,
   "metadata": {
    "collapsed": false
   },
   "outputs": [],
   "source": [
    "data_path = 'data_wpg_tutorial_01';mkdir_p(data_path)\n",
    "out_prefix = 'gb_'\n",
    "src_oe1 = 257.8 # Distance to the first OE [m]\n",
    "\n",
    "# Central photon energy.\n",
    "ekev = 8.5 # Energy [keV]\n",
    "\n",
    "# Pulse parameters.\n",
    "qnC = 0.1               # e-bunch charge, [nC]\n",
    "pulse_duration = 9.e-15 # [s] <-is not used really, only ~coh time pulse duration has physical meaning \n",
    "pulseEnergy = 1.5e-3    # total pulse energy, J\n",
    "coh_time = 0.8e-15      # [s]<-should be SASE coherence time, then spectrum will be the same as for SASE \n",
    "                        # check coherence time for 8 keV 0.5 nC SASE1\n",
    "\n",
    "# Angular distribution\n",
    "theta_fwhm = calculate_theta_fwhm_cdr_s1(ekev,qnC) # CDR2011 empirical formula\n",
    "theta_fwhm = 3.2e-6 #empiric value for nzc 15 (linear SASE before saturation)\n",
    "print('divergence FWHM {0:.1f} urad'.format(theta_fwhm*1e6))"
   ]
  },
  {
   "cell_type": "markdown",
   "metadata": {},
   "source": [
    "### Gaussian beam"
   ]
  },
  {
   "cell_type": "markdown",
   "metadata": {},
   "source": [
    "#### Phase delay $\\phi(r)=\\frac{kr^2}{2R}$ \n",
    "<img src='figures/phase_delay.png'>\n"
   ]
  },
  {
   "cell_type": "code",
   "execution_count": null,
   "metadata": {
    "collapsed": false
   },
   "outputs": [],
   "source": [
    "Image(filename='figures/gaussian_beam.png')"
   ]
  },
  {
   "cell_type": "markdown",
   "metadata": {},
   "source": [
    "### define Gaussian beam parameters"
   ]
  },
  {
   "cell_type": "code",
   "execution_count": null,
   "metadata": {
    "collapsed": false
   },
   "outputs": [],
   "source": [
    "# Gaussian beam parameters\n",
    "wlambda = 12.4*1e-10/ekev        # wavelength \n",
    "w0 = wlambda/(np.pi*theta_fwhm)  # FWHM beam waist; \n",
    "w0_a = w0/(2*np.sqrt(np.log(2))) # sigma of amplitude\n",
    "zR = (np.pi*w0_a**2)/wlambda     # Rayleigh length, max WF curvature\n",
    "\n",
    "# expected beam radius at OE1 position to get the range of the wavefront \n",
    "print('Intensity waist size: {:.0f} um FWHM'.format(w0*1e6))\n",
    "print('Rayleigh length: {:.1f} m'.format(zR))\n",
    "print('expected FWHM at distance {:.1f} m: {:.2f} mm'.format(src_oe1,theta_fwhm*src_oe1*1e3))\n",
    "\n",
    "fname = '{0:s}at_{1:.0f}_m'.format(out_prefix,src_oe1)"
   ]
  },
  {
   "cell_type": "code",
   "execution_count": null,
   "metadata": {
    "collapsed": false
   },
   "outputs": [],
   "source": [
    "bSaved=True\n",
    "sig_num = 5.5\n",
    "num_points = 400 #number of points\n",
    "range_xy = w0_a * np.sqrt(1+(src_oe1/zR)**2)/np.sqrt(2)*sig_num;\n",
    "print('range_xy at OE1: {:.1f} mm'.format(range_xy*1e3))\n",
    "dx = 10.e-6; range_xy = dx*(num_points-1);\n",
    "print('range_xy at OE1: {:.1f} mm'.format(range_xy*1e3))\n",
    "nslices = 20; "
   ]
  },
  {
   "cell_type": "markdown",
   "metadata": {},
   "source": [
    "### create Gaussian beam"
   ]
  },
  {
   "cell_type": "code",
   "execution_count": null,
   "metadata": {
    "collapsed": false
   },
   "outputs": [],
   "source": [
    "srwl_wf = build_gauss_wavefront(num_points, num_points, nslices, ekev, -range_xy/2, range_xy/2,\n",
    "                                -range_xy/2, range_xy/2 ,coh_time/np.sqrt(2), \n",
    "                                w0_a, w0_a, src_oe1,\n",
    "                                pulseEn=pulseEnergy, pulseRange=8.)\n",
    "wf = Wavefront(srwl_wf)\n",
    "z0 = src_oe1\n",
    "#defining name HDF5 file for storing wavefront\n",
    "#store wavefront to HDF5 file \n",
    "if bSaved:     \n",
    "    wf.store_hdf5(os.path.join(data_path,fname+'.h5')); \n",
    "    print('saving WF to {:s}'.format(os.path.join(data_path,fname+'.h5')))\n",
    "\n",
    "xx=calculate_fwhm(wf);\n",
    "print('FWHM at distance {:.1f} m: {:.2f} x {:.2f} mm2'.format(z0,xx[u'fwhm_x']*1e3,xx[u'fwhm_y']*1e3));"
   ]
  },
  {
   "cell_type": "markdown",
   "metadata": {},
   "source": [
    "### show Gaussian wavefront in R- and Q-space"
   ]
  },
  {
   "cell_type": "code",
   "execution_count": null,
   "metadata": {
    "collapsed": false,
    "scrolled": true
   },
   "outputs": [],
   "source": [
    "plot_wf(wf)\n",
    "look_at_q_space(wf)"
   ]
  },
  {
   "cell_type": "markdown",
   "metadata": {},
   "source": [
    "### load FEL SASE pulse from [XFEL Photon Database](https://in.xfel.eu/xpd/)"
   ]
  },
  {
   "cell_type": "code",
   "execution_count": null,
   "metadata": {
    "collapsed": false
   },
   "outputs": [],
   "source": [
    "data_path = 'data_wpg_tutorial_01';mkdir_p(data_path)\n",
    "fname_prefix = 's1_8_43_100_xy75_ss14_nzc15'  # wavefront file\n",
    "fname = fname_prefix+'_1_0000001'\n",
    "full_fname = os.path.join(data_path,fname+'.h5')  # wavefront file\n",
    "request = '57f354b36aa81'"
   ]
  },
  {
   "cell_type": "code",
   "execution_count": null,
   "metadata": {
    "collapsed": false
   },
   "outputs": [],
   "source": [
    "if os.path.exists(full_fname):\n",
    "    print('Data file already exist. Skip downloading. File name: {}'.format(full_fname))\n",
    "else:\n",
    "    #zip_file =  os.path.join(data_path,'s1_8_43_100_xy75_ss10_nzc15_1_0000001.h5.zip') # downloaded zip file \n",
    "    #zip_file =  full_fname+'.zip') # downloaded zip file \n",
    "    zip_file =  fname_prefix+\"_hdf5.zip\"\n",
    "    if not os.path.exists(os.path.join(data_path,zip_file)):\n",
    "        print('Data file not found. File name: {}'.format(zip_file))\n",
    "        print('Please wait... I\\'m downloading. File size should be 239.31 MB')\n",
    "        \n",
    "        try: \n",
    "            from urllib import urlretrieve \n",
    "        except ImportError:\n",
    "            from urllib.request import urlretrieve\n",
    "            \n",
    "        urlretrieve(  #  download path\n",
    "            \"https://in.xfel.eu/xpd/output/2016/10/\"+request+\"/\"+zip_file, \n",
    "            os.path.join(data_path,zip_file)) \n",
    "        print('Download completed.')\n",
    "    \n",
    "\n",
    "    \n",
    "    print('Unziping...')\n",
    "    import zipfile\n",
    "    zf= zipfile.ZipFile(os.path.join(data_path,zip_file))\n",
    "    zf.extractall(data_path)\n",
    "    print('Unzip file finished.')\n",
    "        "
   ]
  },
  {
   "cell_type": "markdown",
   "metadata": {},
   "source": [
    "### load and show initial FEL SASE wavefront"
   ]
  },
  {
   "cell_type": "code",
   "execution_count": null,
   "metadata": {
    "collapsed": false
   },
   "outputs": [],
   "source": [
    "from wpg.srwlib import srwl\n",
    "wf=Wavefront()\n",
    "wf.load_hdf5(full_fname)\n",
    "#Resizing: decreasing Range of Horizontal and Vertical Position:\n",
    "#srwl.ResizeElecField(wf._srwl_wf, 'c', [0, 0.48, 0.48/0.16, 0.48,  0.48/0.16]);\n",
    "fwhm=calculate_fwhm(wf);\n",
    "print('source size FWHM: {:.3f} x {:.3f} mm2'.format(fwhm[u'fwhm_x']*1e3,fwhm[u'fwhm_y']*1e3));\n",
    "plot_wf(wf)\n",
    "srwl.SetRepresElecField(wf._srwl_wf, 'f')\n",
    "print('resizing in frequency domain...');t0 = time.time();\n",
    "srwl.ResizeElecField(wf._srwl_wf, 'f', [0, 0.25, 0.25/0.25]);plot_wf(wf)\n",
    "print('done in {:.2f} s'.format(time.time()-t0))\n"
   ]
  },
  {
   "cell_type": "markdown",
   "metadata": {},
   "source": [
    "### propagate SASE FEL pulse by 1st optical element aperture¶"
   ]
  },
  {
   "cell_type": "code",
   "execution_count": null,
   "metadata": {
    "collapsed": false
   },
   "outputs": [],
   "source": [
    "from wpg import Beamline\n",
    "from wpg.optical_elements import Drift, Use_PP\n",
    "bl = Beamline()\n",
    "z = src_oe1 - zR\n",
    "zoom = 1.5\n",
    "bl.append(Drift(z), Use_PP(\n",
    "        semi_analytical_treatment=1, zoom=zoom, sampling=zoom/1.2))\n",
    "print(bl)\n",
    "wf=Wavefront()\n",
    "print('loading WF from the file {}..'.format(full_fname));t0 = time.time();\n",
    "wf.load_hdf5(full_fname)\n",
    "print('done in {:.2f} s'.format(time.time()-t0))\n",
    "print('switching to frequency domain..');t0 = time.time();\n",
    "srwl.SetRepresElecField(wf._srwl_wf, 'f') # <---- switch to frequency domain\n",
    "print('done in {:.2f} s'.format(time.time()-t0))\n",
    "print('propagating..');t0 = time.time();\n",
    "bl.propagate(wf)\n",
    "print('done in {:.2f} s'.format(time.time()-t0))\n",
    "print('switching to frequency domain..');t0 = time.time();\n",
    "srwl.SetRepresElecField(wf._srwl_wf, 't')\n",
    "print('done in {:.2f} s'.format(time.time()-t0))\n",
    "fwhm=calculate_fwhm(wf);\n",
    "wf.custom_fields['/params/beamline/printout'] = str(bl)\n",
    "print('FWHM at distance {:.1f} m: {:.2f} x {:.2f} mm2'.format(z,fwhm[u'fwhm_x']*1e3,fwhm[u'fwhm_y']*1e3));"
   ]
  },
  {
   "cell_type": "markdown",
   "metadata": {},
   "source": [
    "### show propagated FEL SASE wavefront"
   ]
  },
  {
   "cell_type": "code",
   "execution_count": null,
   "metadata": {
    "collapsed": false
   },
   "outputs": [],
   "source": [
    "plot_wf(wf)\n",
    "look_at_q_space(wf)    "
   ]
  },
  {
   "cell_type": "markdown",
   "metadata": {},
   "source": [
    "### save propagated pulse "
   ]
  },
  {
   "cell_type": "code",
   "execution_count": null,
   "metadata": {
    "collapsed": false
   },
   "outputs": [],
   "source": [
    "fname_out = '{}_prop_at_{:03d}m'.format(fname,int(z))\n",
    "z = src_oe1 - zR\n",
    "if bSaved:     \n",
    "    wf.store_hdf5(os.path.join(data_path,fname_out+'.h5')); \n",
    "    print('saving WF to {:s}'.format(os.path.join(data_path,fname_out+'.h5')))"
   ]
  },
  {
   "cell_type": "code",
   "execution_count": null,
   "metadata": {
    "collapsed": true
   },
   "outputs": [],
   "source": []
  }
 ],
 "metadata": {
  "kernelspec": {
   "display_name": "Python 3",
   "language": "python",
   "name": "python3"
  },
  "language_info": {
   "codemirror_mode": {
    "name": "ipython",
    "version": 3
   },
   "file_extension": ".py",
   "mimetype": "text/x-python",
   "name": "python",
   "nbconvert_exporter": "python",
   "pygments_lexer": "ipython3",
   "version": "3.5.1"
  }
 },
 "nbformat": 4,
 "nbformat_minor": 1
}
