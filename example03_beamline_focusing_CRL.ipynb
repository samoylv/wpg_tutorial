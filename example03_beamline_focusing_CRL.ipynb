{
 "cells": [
  {
   "cell_type": "markdown",
   "metadata": {},
   "source": [
    "# XFEL Wave Optics Simulation Tutorial - 3"
   ]
  },
  {
   "cell_type": "markdown",
   "metadata": {},
   "source": [
    "L.Samoylova <liubov.samoylova@xfel.eu>, A.Buzmakov <buzmakov@gmail.com>\n",
    "\n",
    "Tutorial course on FEL Wavefront Propagation Simulations, 05/10/2016, SOS2016 Workshop, Trieste.\n",
    "\n",
    "Version 05/10/2016\n",
    "\n",
    "Wave optics software is based on SRW core library <https://github.com/ochubar/SRW>, available through WPG interactive framework <https://github.com/samoylv/WPG>"
   ]
  },
  {
   "cell_type": "markdown",
   "metadata": {},
   "source": [
    "## Propagation through a beamline with a flat mirror and focusing CRL "
   ]
  },
  {
   "cell_type": "markdown",
   "metadata": {},
   "source": [
    "### Import modules"
   ]
  },
  {
   "cell_type": "code",
   "execution_count": null,
   "metadata": {
    "collapsed": true
   },
   "outputs": [],
   "source": [
    "%matplotlib inline"
   ]
  },
  {
   "cell_type": "code",
   "execution_count": null,
   "metadata": {
    "collapsed": true
   },
   "outputs": [],
   "source": [
    "from __future__ import absolute_import\n",
    "from __future__ import division\n",
    "from __future__ import print_function\n",
    "from __future__ import unicode_literals\n",
    "\n",
    "\n",
    "#Importing necessary modules:\n",
    "import os\n",
    "import sys\n",
    "import copy\n",
    "import time\n",
    "import errno\n",
    "import numpy as np\n",
    "import pylab as plt\n",
    "\n",
    "from IPython.display import Image"
   ]
  },
  {
   "cell_type": "markdown",
   "metadata": {},
   "source": [
    "### change `wpg_path` to root folder of the WPG installation"
   ]
  },
  {
   "cell_type": "code",
   "execution_count": null,
   "metadata": {
    "collapsed": false
   },
   "outputs": [],
   "source": [
    "wpg_path = '/Users/lsamoylv/code/ghub/srw_update/'\n",
    "#wpg_path = os.path.join('..','WPG')\n",
    "sys.path.insert(0,wpg_path)\n",
    "\n",
    "#Import base wavefront class\n",
    "from wpg import Wavefront\n",
    "\n",
    "#Gaussian beam generator\n",
    "from wpg.generators import build_gauss_wavefront\n",
    "\n",
    "#import srwl \n",
    "from wpg.srwlib import srwl\n",
    "\n",
    "#import some helpers functions\n",
    "from wpg.wpg_uti_exfl import calculate_theta_fwhm_cdr_s1\n",
    "from wpg.wpg_uti_wf import calc_pulse_energy, averaged_intensity, calculate_fwhm, get_intensity_on_axis\n",
    "from wpg.wpg_uti_wf import plot_wf, look_at_q_space\n",
    "\n",
    "plt.ion()"
   ]
  },
  {
   "cell_type": "markdown",
   "metadata": {},
   "source": [
    "### define helper functions"
   ]
  },
  {
   "cell_type": "code",
   "execution_count": null,
   "metadata": {
    "collapsed": true
   },
   "outputs": [],
   "source": [
    "def mkdir_p(path):\n",
    "    try:\n",
    "        os.makedirs(path)\n",
    "    except OSError as exc:  # Python >2.5\n",
    "        if exc.errno == errno.EEXIST and os.path.isdir(path):\n",
    "            pass\n",
    "        else:\n",
    "            raise\n",
    "            \n"
   ]
  },
  {
   "cell_type": "markdown",
   "metadata": {},
   "source": [
    "## define a beamline with offset mirror and CRL focusing to sample\n",
    "### (layout SPB/SFX SASE1 instrument)"
   ]
  },
  {
   "cell_type": "code",
   "execution_count": null,
   "metadata": {
    "collapsed": false
   },
   "outputs": [],
   "source": [
    "from IPython.display import Image\n",
    "Image(filename='figures/spb_crl.png')"
   ]
  },
  {
   "cell_type": "code",
   "execution_count": null,
   "metadata": {
    "collapsed": false
   },
   "outputs": [],
   "source": [
    "%%file example03_beamline_focusing_CRL.py\n",
    "\n",
    "def get_beamline(z=None):\n",
    "    import os\n",
    "    import wpg\n",
    "    from wpg import Beamline\n",
    "    from wpg.optical_elements import Aperture, Drift, CRL, Empty, Use_PP, Mirror_plane, create_CRL_from_file\n",
    "    from wpg.wpg_uti_oe import show_transmission\n",
    "\n",
    "    wpg_path = os.path.abspath(os.path.dirname(wpg.__file__))\n",
    "    data_path = 'data_example_03'\n",
    "    data_common_path = 'data_common'\n",
    "    bPrint = True\n",
    "\n",
    "    # S1 beamline layout\n",
    "    # Geometry ###\n",
    "    src_to_hom1 = 257.8  # Distance source to HOM 1 [m]\n",
    "    src_to_hom2 = 267.8  # Distance source to HOM 2 [m]\n",
    "    src_to_crl = 887.8   # Distance source to CRL [m]\n",
    "    src_to_exp = 920.803  #920.42 # Distance source to experiment [m]\n",
    "    if(z==None):\n",
    "        z = 0\n",
    "    \n",
    "    theta_om = 3.6e-3  # [rad]\n",
    "\n",
    "    om_mirror_length = 0.8  # [m]\n",
    "    om_clear_ap = om_mirror_length * theta_om\n",
    "\n",
    "    # define the beamline:\n",
    "    bl0 = Beamline()\n",
    "\n",
    "    # Define HOM1.\n",
    "    aperture_x_to_y_ratio = 1\n",
    "    hom1 = Aperture(\n",
    "        shape='r', ap_or_ob='a', Dx=om_clear_ap, Dy=om_clear_ap / aperture_x_to_y_ratio)\n",
    "\n",
    "    # Define mirror profile\n",
    "    # Apply distortions.\n",
    "    mirrors_path = os.path.join(wpg_path, '..','samples', 'data_common')\n",
    "    hom1_wavefront_distortion = Mirror_plane(orient='x', \n",
    "                                             theta=theta_om, \n",
    "                                             length=om_mirror_length, \n",
    "                                             range_xy=om_clear_ap/aperture_x_to_y_ratio, \n",
    "                                             filename=os.path.join(mirrors_path, 'mirror1.dat'), \n",
    "                                             scale=1, delim=' ')\n",
    "    if bPrint:\n",
    "        print('HOM1 WF distortion'); show_transmission(hom1_wavefront_distortion);\n",
    "\n",
    "    # Free space propagation from hom1 to hom2\n",
    "    hom1_to_hom2_drift = Drift(src_to_hom2 - src_to_hom1)\n",
    "\n",
    "    # Define HOM2 as aperture.\n",
    "    hom2 = Aperture('r', 'a', om_clear_ap, om_clear_ap / aperture_x_to_y_ratio)\n",
    "\n",
    "    # drift to CRL aperture\n",
    "    hom2_to_crl_drift = Drift(src_to_crl - src_to_hom2)\n",
    "\n",
    "    # Define CRL\n",
    "    crl_focussing_plane = 3  # Both horizontal and vertical.\n",
    "    # Refractive index decrement (n = 1- delta - i*beta)\n",
    "    crl_delta = 4.7967e-6 #<=8.43 keV 4.7177e-06\n",
    "    crl_attenuation_length = 6.1e-3# <=8.43 keV 6.3e-3    # Attenuation length [m], Henke data.\n",
    "    crl_shape = 1         # Parabolic lenses\n",
    "    crl_aperture = 5.0e-3  # [m]\n",
    "    crl_curvature_radius = 5.8e-3  # [m]\n",
    "    crl_number_of_lenses = 19\n",
    "    crl_wall_thickness = 8.0e-5  # Thickness\n",
    "    crl_center_horizontal_coordinate = 0.0\n",
    "    crl_center_vertical_coordinate = 0.0\n",
    "    crl_initial_photon_energy = 8.43e3  # [eV] ### \n",
    "    crl_final_photon_energy = 8.52e3  # [eV]   ### \n",
    "\n",
    "    crl = create_CRL_from_file(data_path,\n",
    "                     'opd_crl_n{:d}_r_{:d}_e_{:d}ev'.format(crl_number_of_lenses,int(crl_curvature_radius*1e6),\n",
    "                                                           int(crl_initial_photon_energy)),\n",
    "                     _foc_plane=crl_focussing_plane,\n",
    "                     _delta=crl_delta,\n",
    "                     _atten_len=crl_attenuation_length,\n",
    "                     _shape=crl_shape,\n",
    "                     _apert_h=crl_aperture,\n",
    "                     _apert_v=crl_aperture,\n",
    "                     _r_min=crl_curvature_radius,\n",
    "                     _n=crl_number_of_lenses,\n",
    "                     _wall_thick=crl_wall_thickness,\n",
    "                     _xc=crl_center_horizontal_coordinate,\n",
    "                     _yc=crl_center_vertical_coordinate,\n",
    "                     _void_cen_rad=None,\n",
    "                     _e_start=crl_initial_photon_energy,\n",
    "                     _e_fin=crl_final_photon_energy\n",
    "                    )\n",
    "    if bPrint:\n",
    "        print('CRL'); show_transmission(crl)\n",
    "\n",
    "    # drift to sample including offset z\n",
    "    crl_to_sample = Drift(src_to_exp - src_to_crl + z)\n",
    "    # Beamline:\n",
    "    bl0.append(\n",
    "        hom1, Use_PP(semi_analytical_treatment=0))\n",
    "    zoom = 1.2\n",
    "    bl0.append(hom1_wavefront_distortion,\n",
    "               Use_PP(semi_analytical_treatment=0, zoom=zoom, sampling=zoom/0.8))\n",
    "    bl0.append(hom1_to_hom2_drift, Use_PP(semi_analytical_treatment=0))\n",
    "    zoom = 1.0\n",
    "    bl0.append(hom2, Use_PP(semi_analytical_treatment=0,\n",
    "                            zoom=zoom, sampling=zoom / 0.75))\n",
    "    bl0.append(hom2_to_crl_drift, Use_PP(semi_analytical_treatment=1))\n",
    "    zoom = 0.6\n",
    "    #bl0.append(\n",
    "    #    crl, Use_PP(semi_analytical_treatment=1, zoom=zoom, sampling=zoom/0.1))\n",
    "    bl0.append(\n",
    "        crl, Use_PP(semi_analytical_treatment=1, zoom=zoom, sampling=zoom/0.6))\n",
    "    bl0.append(crl_to_sample, Use_PP(semi_analytical_treatment=1))\n",
    "\n",
    "    return bl0"
   ]
  },
  {
   "cell_type": "markdown",
   "metadata": {},
   "source": [
    "### define source "
   ]
  },
  {
   "cell_type": "code",
   "execution_count": null,
   "metadata": {
    "collapsed": false
   },
   "outputs": [],
   "source": [
    "data_path = 'data_example_03';mkdir_p(data_path)\n",
    "out_prefix = 'gb_'\n",
    "src_oe1 = 257.8 # Distance to the first OE [m]\n",
    "fname = '{0:s}at_{1:.0f}_m'.format(out_prefix,src_oe1);\n",
    "bname = fname\n",
    "\n",
    "# Central photon energy.\n",
    "ekev = 8.5 # Energy [keV]\n",
    "\n",
    "# Pulse parameters.\n",
    "qnC = 0.1               # e-bunch charge, [nC]\n",
    "pulse_duration = 9.e-15 # [s] <-is not used really, only ~coh time pulse duration has physical meaning \n",
    "pulseEnergy = 1.5e-3    # total pulse energy, J\n",
    "coh_time = 0.8e-15      # [s]<-should be SASE coherence time, then spectrum will be the same as for SASE \n",
    "                        # check coherence time for 8 keV 0.5 nC SASE1\n",
    "\n",
    "# Angular distribution\n",
    "theta_fwhm = calculate_theta_fwhm_cdr_s1(ekev,qnC) # CDR2011 empirical formula\n",
    "theta_fwhm = 3.2e-6 #empiric value for nzc 15 (linear SASE before saturation)\n",
    "print('divergence FWHM {0:.1f} urad'.format(theta_fwhm*1e6))"
   ]
  },
  {
   "cell_type": "code",
   "execution_count": null,
   "metadata": {
    "collapsed": false
   },
   "outputs": [],
   "source": [
    "# Gaussian beam parameters\n",
    "wlambda = 12.4*1e-10/ekev        # wavelength \n",
    "w0 = wlambda/(np.pi*theta_fwhm)  # FWHM beam waist; \n",
    "w0_a = w0/(2*np.sqrt(np.log(2))) # sigma of amplitude\n",
    "zR = (np.pi*w0_a**2)/wlambda     # Rayleigh length, max WF curvature\n",
    "\n",
    "# expected beam radius at OE1 position to get the range of the wavefront \n",
    "print('Intensity waist size: {:.0f} um FWHM'.format(w0*1e6))\n",
    "print('Rayleigh length: {:.1f} m'.format(zR))\n",
    "print('expected FWHM at distance {:.1f} m: {:.2f} mm'.format(src_oe1,theta_fwhm*src_oe1*1e3))"
   ]
  },
  {
   "cell_type": "code",
   "execution_count": null,
   "metadata": {
    "collapsed": false
   },
   "outputs": [],
   "source": [
    "bSaved=True\n",
    "sig_num = 5.5\n",
    "num_points = 400 #number of points\n",
    "range_xy = w0_a * np.sqrt(1+(src_oe1/zR)**2)/np.sqrt(2)*sig_num;\n",
    "print('range_xy at OE1: {:.1f} mm'.format(range_xy*1e3))\n",
    "dx = 10.e-6; range_xy = dx*(num_points-1);\n",
    "print('range_xy at OE1: {:.1f} mm'.format(range_xy*1e3))\n",
    "nslices = 20; "
   ]
  },
  {
   "cell_type": "markdown",
   "metadata": {},
   "source": [
    "### create Gaussian beam"
   ]
  },
  {
   "cell_type": "code",
   "execution_count": null,
   "metadata": {
    "collapsed": false
   },
   "outputs": [],
   "source": [
    "srwl_wf = build_gauss_wavefront(num_points, num_points, nslices, ekev, -range_xy/2, range_xy/2,\n",
    "                                -range_xy/2, range_xy/2 ,coh_time/np.sqrt(2), \n",
    "                                w0_a, w0_a, src_oe1,\n",
    "                                pulseEn=pulseEnergy, pulseRange=8.)\n",
    "wf = Wavefront(srwl_wf)\n",
    "z0 = src_oe1\n",
    "#defining name HDF5 file for storing wavefront\n",
    "#store wavefront to HDF5 file \n",
    "if bSaved:     \n",
    "    wf.store_hdf5(os.path.join(data_path,fname+'.h5')); \n",
    "    print('saving WF to {:s}'.format(os.path.join(data_path,fname+'.h5')))\n",
    "\n",
    "xx=calculate_fwhm(wf);\n",
    "print('FWHM at distance {:.1f} m: {:.2f} x {:.2f} mm2'.format(z0,xx[u'fwhm_x']*1e3,xx[u'fwhm_y']*1e3));"
   ]
  },
  {
   "cell_type": "markdown",
   "metadata": {},
   "source": [
    "### show Gaussian wavefront in R- and Q-space"
   ]
  },
  {
   "cell_type": "code",
   "execution_count": null,
   "metadata": {
    "collapsed": false,
    "scrolled": true
   },
   "outputs": [],
   "source": [
    "plot_wf(wf)\n",
    "look_at_q_space(wf)"
   ]
  },
  {
   "cell_type": "markdown",
   "metadata": {},
   "source": [
    "### propagate through the beamline"
   ]
  },
  {
   "cell_type": "code",
   "execution_count": null,
   "metadata": {
    "collapsed": false
   },
   "outputs": [],
   "source": [
    "#loading beamline from file\n",
    "import imp\n",
    "import time\n",
    "custom_beamline = imp.load_source('custom_beamline', 'example03_beamline_focusing_CRL.py')\n",
    "get_beamline = custom_beamline.get_beamline\n",
    "za = np.array([-.5,-0.25,0.25,0.5,0.])\n",
    "#za = np.array([0])\n",
    "fwhm_x = np.zeros(len(za), dtype='float32')\n",
    "fwhm_y = np.zeros(len(za), dtype='float32')\n",
    "for idx in range (len(za)):\n",
    "    z = za[idx]\n",
    "    print('building beamline...');t0 = time.time();\n",
    "    bl = get_beamline(z)\n",
    "    print('done in {:.2f} s'.format(time.time()-t0))\n",
    "    if idx==0: print(bl)\n",
    "    print('loading WF...');t0 = time.time();\n",
    "    wf=Wavefront() ;wf.load_hdf5(os.path.join(data_path,fname+'.h5'))\n",
    "    print('done in {:.2f} s'.format(time.time()-t0))\n",
    "    print('switching in frequency domain...');t0 = time.time();\n",
    "    srwl.SetRepresElecField(wf._srwl_wf, 'f') # <---- switch to frequency domain\n",
    "    print('done in {:.2f} s'.format(time.time()-t0))\n",
    "    print('propagating through beamline...');t0 = time.time();\n",
    "    bl.propagate(wf)\n",
    "    print('done in {:.2f} s'.format(time.time()-t0))\n",
    "    print('switching in time domain...');t0 = time.time();\n",
    "    srwl.SetRepresElecField(wf._srwl_wf, 't')\n",
    "    print('done in {:.2f} s'.format(time.time()-t0))\n",
    "    xx=calculate_fwhm(wf);\n",
    "    print('FWHM at {:.3f} m offset: {:.2f} x {:.2f} um2'.format(z, xx[u'fwhm_x']*1e6,xx[u'fwhm_y']*1e6));\n",
    "    fwhm_x[idx] = xx[u'fwhm_x'];fwhm_y[idx] = xx[u'fwhm_y'];\n",
    "    \n",
    "    #plot_wf(wf)"
   ]
  },
  {
   "cell_type": "markdown",
   "metadata": {},
   "source": [
    "### plot spot size (z)"
   ]
  },
  {
   "cell_type": "code",
   "execution_count": null,
   "metadata": {
    "collapsed": false
   },
   "outputs": [],
   "source": [
    "plt.plot(za*1e3,fwhm_x*1e6,'o',label='FWHM_x')\n",
    "plt.plot(za*1e3,fwhm_y*1e6,'v',label='FWHM_y')\n",
    "plt.legend(loc=\"bottom left\")\n",
    "plt.xlabel('mm');plt.ylabel('FWHM, $\\mu m$')\n",
    "plt.show()"
   ]
  },
  {
   "cell_type": "code",
   "execution_count": null,
   "metadata": {
    "collapsed": false
   },
   "outputs": [],
   "source": [
    "### show propagated wavefront at focus\n",
    "\n",
    "plot_wf(wf)\n",
    "look_at_q_space(wf)    "
   ]
  },
  {
   "cell_type": "markdown",
   "metadata": {},
   "source": [
    "### save propagated pulse "
   ]
  },
  {
   "cell_type": "code",
   "execution_count": null,
   "metadata": {
    "collapsed": false
   },
   "outputs": [],
   "source": [
    "src_to_exp = 921.8 # distance source to imager \n",
    "z = src_to_exp\n",
    "fname = '{:s}_prop_at_{:03d}m'.format(bname,int(np.floor(z)))\n",
    "if bSaved:     \n",
    "    wf.store_hdf5(os.path.join(data_path,fname+'.h5')); \n",
    "    print('saving WF to {:s}'.format(os.path.join(data_path,fname+'.h5')))\n"
   ]
  },
  {
   "cell_type": "markdown",
   "metadata": {
    "collapsed": true
   },
   "source": [
    "### load SASE FEL pulse \n",
    "**copy FEL pulse**   `s1_8_43_100_xy75_ss14_nzc15_1_0000001_prop_at_256m.h5`   from **data_example_01** folder"
   ]
  },
  {
   "cell_type": "markdown",
   "metadata": {},
   "source": [
    "### _change formatting from raw to code to propagate FEL pulse_"
   ]
  },
  {
   "cell_type": "code",
   "execution_count": null,
   "metadata": {
    "collapsed": false,
    "scrolled": true
   },
   "outputs": [],
   "source": [
    "    #loading beamline from file\n",
    "    import imp\n",
    "    import time\n",
    "    from wpg.srwlib import srwl\n",
    "    \n",
    "    data_path = 'data_example_03';mkdir_p(data_path)\n",
    "    bname = 's1_8_43_100_xy75_ss14_nzc15_1_0000001'\n",
    "    fname = bname+'_prop_at_256m'\n",
    "\n",
    "    print('loading WF...');t0 = time.time();\n",
    "    wf=Wavefront() ;wf.load_hdf5(os.path.join(data_path,fname+'.h5'))\n",
    "    print('done in {:.2f} s'.format(time.time()-t0))\n",
    "    srwl.ResizeElecField(wf._srwl_wf, 't', [0, 1.5, 1.5/2]);plot_wf(wf)\n",
    "\n",
    "    print('switching in frequency domain...');t0 = time.time();\n",
    "    srwl.SetRepresElecField(wf._srwl_wf, 'f') # <---- switch to frequency domain\n",
    "    print('done in {:.2f} s'.format(time.time()-t0))\n",
    "    srwl.ResizeElecField(wf._srwl_wf, 'f', [0, 0.5, 0.5]);plot_wf(wf)\n",
    "    \n",
    "    custom_beamline = imp.load_source('custom_beamline', 'example03_beamline_focusing_CRL.py')\n",
    "    get_beamline = custom_beamline.get_beamline\n",
    "    print('building beamline...');t0 = time.time();\n",
    "    bl = get_beamline()\n",
    "    print('done in {:.2f} s'.format(time.time()-t0))\n",
    "    print(bl)\n"
   ]
  },
  {
   "cell_type": "code",
   "execution_count": null,
   "metadata": {
    "collapsed": false,
    "scrolled": true
   },
   "outputs": [],
   "source": [
    "print('propagating through beamline...');t0 = time.time();\n",
    "bl.propagate(wf)\n",
    "print('done in {:.2f} s'.format(time.time()-t0))\n",
    "print('switching in time domain...');t0 = time.time();\n",
    "srwl.SetRepresElecField(wf._srwl_wf, 't')\n",
    "print('done in {:.2f} s'.format(time.time()-t0))\n",
    "xx=calculate_fwhm(wf);\n",
    "print('FWHM at {:.3f} m offset: {:.2f} x {:.2f} um2'.format(z-src_to_exp, xx[u'fwhm_x']*1e6,xx[u'fwhm_y']*1e6));\n",
    "fwhm_x[idx] = xx[u'fwhm_x'];fwhm_y[idx] = xx[u'fwhm_y'];\n",
    "\n",
    "### show propagated wavefront at focus\n",
    "\n",
    "plot_wf(wf)\n",
    "look_at_q_space(wf)    "
   ]
  },
  {
   "cell_type": "code",
   "execution_count": null,
   "metadata": {
    "collapsed": false
   },
   "outputs": [],
   "source": [
    "z = src_to_exp\n",
    "fname_out = '{:s}_prop_at_{:03d}m'.format(bname,int(np.floor(z)))\n",
    "if bSaved:     \n",
    "    print('saving WF to {:s}'.format(os.path.join(data_path,fname_out+'.h5')))\n",
    "    wf.store_hdf5(os.path.join(data_path,fname_out+'.h5')); \n",
    "def add_history(wf_file_name, history_file_name):\n",
    "    \"\"\"\n",
    "    Add history from pearent file to propagated file\n",
    "    \n",
    "    :param wf_file_name: output file\n",
    "    :param history_file_name: peraent file\n",
    "    \"\"\"\n",
    "    import h5py\n",
    "    with h5py.File(wf_file_name) as wf_h5:\n",
    "        with h5py.File(history_file_name) as history_h5:\n",
    "            if 'history' in wf_h5:\n",
    "                del wf_h5['history']\n",
    "            \n",
    "            wf_h5.create_group('/history/parent/')\n",
    "            wf_h5.create_group('/history/parent/detail')\n",
    "            \n",
    "            for k in history_h5:\n",
    "                if k=='history':\n",
    "                    try:\n",
    "                        history_h5.copy('/history/parent', wf_h5['history']['parent'])\n",
    "                    except KeyError:\n",
    "                        pass\n",
    "                        \n",
    "                elif not k == 'data':\n",
    "                    history_h5.copy(k,wf_h5['history']['parent']['detail'])\n",
    "                else:\n",
    "                    wf_h5['history']['parent']['detail']['data'] = h5py.ExternalLink(history_file_name,'/data')\n",
    "\n",
    "add_history(os.path.join(data_path,fname_out+'.h5'), os.path.join(data_path,fname+'.h5'))"
   ]
  },
  {
   "cell_type": "code",
   "execution_count": null,
   "metadata": {
    "collapsed": false
   },
   "outputs": [],
   "source": [
    "# Optical Element Setup: CRL Focal Length: 31.82012194787425 m\n",
    "# 1/f = 1/p + 1/q\n",
    "f = 31.82\n",
    "p = 887.8; q = 1./(1/f - 1/p)\n",
    "print('q:{:.4f} m'.format(q))"
   ]
  },
  {
   "cell_type": "code",
   "execution_count": null,
   "metadata": {
    "collapsed": true
   },
   "outputs": [],
   "source": []
  }
 ],
 "metadata": {
  "kernelspec": {
   "display_name": "Python 3",
   "language": "python",
   "name": "python3"
  },
  "language_info": {
   "codemirror_mode": {
    "name": "ipython",
    "version": 3
   },
   "file_extension": ".py",
   "mimetype": "text/x-python",
   "name": "python",
   "nbconvert_exporter": "python",
   "pygments_lexer": "ipython3",
   "version": "3.4.5"
  }
 },
 "nbformat": 4,
 "nbformat_minor": 1
}
